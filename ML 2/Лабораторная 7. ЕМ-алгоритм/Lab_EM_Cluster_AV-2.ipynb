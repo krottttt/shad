{
 "cells": [
  {
   "cell_type": "code",
   "execution_count": null,
   "id": "0d7c23f2-a128-437a-b09d-08fd45cbd6a5",
   "metadata": {
    "scrolled": true
   },
   "outputs": [],
   "source": [
    "!pip install kagglehub\n",
    "!pip install ipympl"
   ]
  },
  {
   "cell_type": "code",
   "execution_count": null,
   "id": "a64c1522-fb4e-4bc6-9688-1c3404fb1aff",
   "metadata": {},
   "outputs": [],
   "source": [
    "!jupyter labextension install @jupyter-widgets/jupyterlab-manager"
   ]
  },
  {
   "cell_type": "code",
   "execution_count": 1,
   "id": "930f0934-7b0c-4fc1-b475-4f3405a23710",
   "metadata": {},
   "outputs": [],
   "source": [
    "import pandas as pd\n",
    "import numpy as np\n",
    "import kagglehub\n",
    "from tqdm import tqdm \n",
    "import matplotlib.pyplot as plt\n",
    "from IPython.display import clear_output"
   ]
  },
  {
   "cell_type": "markdown",
   "id": "9c742819",
   "metadata": {},
   "source": [
    "# Лабораторная работа 7. Обучение без учителя\n",
    "\n",
    "Результат лабораторной работы − отчет. Мы предпочитаем принимать отчеты в формате ноутбуков IPython (ipynb-файл). Постарайтесь сделать ваш отчет интересным рассказом, последовательно отвечающим на вопросы из заданий. Помимо ответов на вопросы, в отчете также должен быть код, однако чем меньше кода, тем лучше всем: нам − меньше проверять, вам — проще найти ошибку или дополнить эксперимент. При проверке оценивается четкость ответов на вопросы, аккуратность отчета и кода.\n",
    "\n",
    "## Оценивание и штрафы\n",
    "Каждая из задач имеет определенную «стоимость» (указана в скобках около задачи). Максимально допустимая оценка за работу — 15 баллов. Сдавать задание после указанного срока сдачи нельзя. «Похожие» решения считаются плагиатом и все задействованные студенты (в том числе те, у кого списали) не могут получить за него больше 0 баллов и понижают карму. Если вы нашли решение какого-то из заданий в открытом источнике, необходимо прислать ссылку на этот источник (скорее всего вы будете не единственным, кто это нашел, поэтому чтобы исключить подозрение в плагиате, нам необходима ссылка на источник)."
   ]
  },
  {
   "cell_type": "markdown",
   "id": "4267464f",
   "metadata": {},
   "source": [
    "## EM-алгоритм"
   ]
  },
  {
   "cell_type": "markdown",
   "id": "6aec3aaa",
   "metadata": {},
   "source": [
    "### Краудсорсинг\n",
    "\n",
    "Разметка данных — одна из самых трудозатратных задач в машинном обучении. Краудсорсинг позволяет распределить эту задачу на тысячи исполнителей, каждый из которых подготавливает небольшую часть датасета (подробнее <a href=\"https://academy.yandex.ru/posts/chto-takoe-kraudsorsing-i-pochemu-emu-nuzhno-uchitsya\">тут</a>).\n",
    "\n",
    "Пользователи могут допускать ошибки при разметке, кроме того, среди пользователей могут быть боты. Если мы попросим разметить каждый объект только одного пользователя, то с большой вероятностью получим не достаточно качественную разметку. Обычно каждый объект размечают несколько пользователей.\n",
    "\n",
    "Результаты разметки нужно обработать. Самый простой метод *голос большинства*. Он заключается в том, что для каждого объекта нужно взять тот класс, который чаще всего ставили пользователи данному объекту. Это достаточно хороший метод, но он не учитывает различные особенности пользователей. Далее рассмотрим метод, который позволяет оценивать вероятность того, что разметчик ошибся.\n",
    "\n",
    "### Метод Дэвида-Скина (Dawid, Skene, 1979)\n",
    "\n",
    "Мы имеем в качестве данных $n_{ik}^u$ &mdash; количество раз, при которых разметчик $u \\in U$ поставил класс $k \\in K$ объекту $i \\in I$ (возможно, разметчик видел этот объект несколько раз). Обозначим $Y_{ik} = I\\{\\text{объект $i$ класса $k$}\\}$, это наши латентные величины. \n",
    "\n",
    "В качестве параметров имеем\n",
    "* $\\pi_{k\\ell}^u$ &mdash; вероятность того, что разметчик $u$ поставил класс $\\ell$ вместо правильного класса $k$. \n",
    "* $\\rho_k$ &mdash; вероятность класса $k$.\n",
    "\n",
    "Поймём, какой будет функция неполного правдоподобия в этой задаче. Прежде всего,\n",
    "\n",
    "$$p_{\\pi,p}(N, Y) = \\prod_{i\\in I}p(N_i, Y_i),$$\n",
    "\n",
    "Если $k$ - номер класса $i$-го объекта, то\n",
    "\n",
    "$$p(N_i, Y_i)=\\underbrace{p(\\text{объект $i$ класса $k$})}_{=\\rho_k}p(N_i\\mid\\text{объект $i$ класса $k$})$$\n",
    "\n",
    "(значения $Y_{it}$ однозначно определяются номером истинного класса, поэтому справа $Y_i$ пропадает). Далее, мы считаем, что разметчики действуют независимо, поэтому\n",
    "\n",
    "$$p(N_i\\mid\\text{объект $i$ класса $k$}) = \\prod_{u\\in U}p(N_i^u\\mid\\text{объект $i$ класса $k$}).$$\n",
    "\n",
    "Разберёмся с величиной $p(N_i^u\\mid\\text{объект $i$ класса $k$})$. Она отвечает за то, какие классы $u$-й разметчик ставил $i$-му объекту. Мы считаем, что встречи разметчика с объектом упорядочены по времени, тогда\n",
    "\n",
    "$$p(\\text{$u$-й разметчик отнёс $i$-й объект к классам $k'_1,\\ldots,k'_r$}\\mid\\text{объект $i$ класса $k$}) =$$\n",
    "\n",
    "$$=\\prod_{s}p(\\text{в $s$-ю встречу с $i$-м объектом $u$-й разметчик отнёс его к классу $k'_s$}\\mid\\text{объект $i$ класса $k$})$$\n",
    "\n",
    "Эту вероятность можно переписать в виде\n",
    "\n",
    "$$\\prod_{\\ell \\in K} \\left( \\pi_{k\\ell}^u \\right)^{n_{i\\ell}^u},$$\n",
    "\n",
    "а итоговое неполное правдоподобие предстаёт в виде\n",
    "\n",
    "$$p_{\\pi,p}(N, Y) = \\prod_{i\\in I}\\prod_{k \\in K} \\left( \\rho_k \\prod_{u\\in U} \\prod_{\\ell \\in K} \\left( \\pi_{k\\ell}^u \\right)^{n_{i\\ell}^u} \\right)^{Y_{ik}}$$\n",
    "\n",
    "Его нам нужно максимизировать по $\\pi$ и $\\rho$\n",
    "\n",
    "**Пояснение к формуле:** \n",
    "\n",
    "Вне больших скобок фиксируются объект и его класс, сама скобка возводится в степень 1, если рассматривается правильный класс объекта, и в степень 0 иначе. Внутри сначала записана вероятность того, что объект имеет данный класс, а затем &mdash; перебор по всем пользователям и всем классам, которые мог поставить данный пользователь. Наконец, записывается вероятность того, что пользователь нашему объекту поставил некоторый класс, которая возводится в степень того, сколько раз он поставил этот класс. Например, если пользователь видел изображение котика 5 раз, при этом 3 раза он сказал, что котик, а два раза &mdash; песик, то вероятность $\\pi_{cat,cat}^u$ для данного котика учтется 3 раза, а вероятность $\\pi_{cat,dog}^u$ &mdash; 2 раза."
   ]
  },
  {
   "cell_type": "markdown",
   "id": "9bb326b9",
   "metadata": {},
   "source": [
    "**Задание 1 (2 балл)**\n",
    "\n",
    "Распишите итерационную процедуру EM-алгоритма и значение ELBO в методе Дэвида-Скина."
   ]
  },
  {
   "cell_type": "code",
   "execution_count": 2,
   "id": "473bb9fa",
   "metadata": {},
   "outputs": [
    {
     "ename": "IndentationError",
     "evalue": "expected an indented block after function definition on line 5 (3899311815.py, line 8)",
     "output_type": "error",
     "traceback": [
      "\u001b[0;36m  Cell \u001b[0;32mIn[2], line 8\u001b[0;36m\u001b[0m\n\u001b[0;31m    def predict(self):\u001b[0m\n\u001b[0m    ^\u001b[0m\n\u001b[0;31mIndentationError\u001b[0m\u001b[0;31m:\u001b[0m expected an indented block after function definition on line 5\n"
     ]
    }
   ],
   "source": [
    "class DawidSkene:\n",
    "    def __init__(self, crowd_labels: pd.DataFrame):\n",
    "        self.crowd_labels = crowd_labels\n",
    "    \n",
    "    def initialize_params(self):\n",
    "        # your code here\n",
    "    \n",
    "    def predict(self):\n",
    "        # your code here\n",
    "        \n",
    "    def run(self, n_iter):\n",
    "        # your code here"
   ]
  },
  {
   "cell_type": "code",
   "execution_count": 20,
   "id": "57bdd6f1-b54c-4400-8454-43dfe8a58305",
   "metadata": {},
   "outputs": [],
   "source": [
    "\n",
    "\n",
    "import time\n",
    "\n",
    "class DawidSkene:\n",
    "    def __init__(self, crowd_labels: pd.DataFrame):\n",
    "        \"\"\"\n",
    "        Инициализирует модель Dawid-Skene для агрегации меток.\n",
    "        \n",
    "        Parameters:\n",
    "        -----------\n",
    "        crowd_labels : pd.DataFrame\n",
    "            Фрейм данных с аннотациями от разметчиков.\n",
    "            Ожидаемые колонки: 'task-id', 'worker_id', 'label'\n",
    "        \"\"\"\n",
    "        self.crowd_labels = crowd_labels\n",
    "        self.items = self.crowd_labels['task-id'].unique()\n",
    "        self.workers = self.crowd_labels['worker-id'].unique()\n",
    "        self.classes = self.crowd_labels['label'].unique()\n",
    "        \n",
    "        self.n_items = len(self.items)\n",
    "        self.n_workers = len(self.workers)\n",
    "        self.n_classes = len(self.classes)\n",
    "        \n",
    "        # Создадим словари для быстрого доступа\n",
    "        self.item_to_idx = {item: idx for idx, item in enumerate(self.items)}\n",
    "        self.worker_to_idx = {worker: idx for idx, worker in enumerate(self.workers)}\n",
    "        self.class_to_idx = {cls: idx for idx, cls in enumerate(self.classes)}\n",
    "        \n",
    "        # Создадим матрицу меток\n",
    "        self.labels_matrix = np.ones((self.n_items, self.n_workers)) * -1\n",
    "        for _, row in crowd_labels.iterrows():\n",
    "            i = self.item_to_idx[row['task-id']]\n",
    "            j = self.worker_to_idx[row['worker-id']]\n",
    "            k = self.class_to_idx[row['label']]\n",
    "            self.labels_matrix[i, j] = k\n",
    "        \n",
    "        # Параметры модели\n",
    "        self.p_y = None  # априорные вероятности классов\n",
    "        self.pi = None   # матрицы ошибок разметчиков\n",
    "        self.T = None    # апостериорные вероятности классов для объектов\n",
    "    \n",
    "    def initialize_params(self):\n",
    "        s = 0.1\n",
    "        \"\"\"\n",
    "        Инициализирует параметры модели:\n",
    "        - p_y: априорные вероятности классов\n",
    "        - pi: матрицы ошибок для каждого разметчика\n",
    "        - T: апостериорные вероятности истинных меток\n",
    "        \"\"\"\n",
    "        # Инициализируем априорные вероятности равномерно\n",
    "        self.p_y = np.ones(self.n_classes) / self.n_classes\n",
    "        \n",
    "        # Инициализируем матрицы ошибок для каждого разметчика\n",
    "        # Предполагаем, что разметчики в основном правы (0.7 на диагонали)\n",
    "        eror_init = s+np.random.rand()/(1/(1-2*s))\n",
    "        error_rate = eror_init / (self.n_classes - 1)  # равномерное распределение ошибок\n",
    "        self.pi = np.ones((self.n_workers, self.n_classes, self.n_classes)) * error_rate\n",
    "        for w in range(self.n_workers):\n",
    "            np.fill_diagonal(self.pi[w], 1 - eror_init)  # диагональные элементы = 0.7\n",
    "        \n",
    "        # Инициализируем апостериорные вероятности меток (E-шаг)\n",
    "        self.T = np.ones((self.n_items, self.n_classes)) / self.n_classes\n",
    "    \n",
    "    def e_step(self):\n",
    "        \"\"\"\n",
    "        E-шаг: Обновляет апостериорные вероятности истинных меток (T)\n",
    "        на основе текущих значений параметров p_y и pi.\n",
    "        \n",
    "        Возвращает значение ELBO для мониторинга сходимости.\n",
    "        \"\"\"\n",
    "        log_likelihood = 0\n",
    "        \n",
    "        for i in range(self.n_items):\n",
    "            # Начинаем с априорных вероятностей\n",
    "            log_p = np.log(self.p_y + 1e-10)\n",
    "            \n",
    "            # Для каждого разметчика, который оценил этот объект\n",
    "            for j in range(self.n_workers):\n",
    "                if self.labels_matrix[i, j] >= 0:  # если разметчик поставил метку\n",
    "                    label_idx = int(self.labels_matrix[i, j])\n",
    "                    for c in range(self.n_classes):\n",
    "                        log_p[c] += np.log(self.pi[j, c, label_idx] + 1e-10)\n",
    "            \n",
    "            # Вычисляем вероятности и нормализуем\n",
    "            p = np.exp(log_p - np.max(log_p))  # Стабилизация вычислений\n",
    "            self.T[i] = p / np.sum(p)\n",
    "            \n",
    "            # Обновляем значение правдоподобия для ELBO\n",
    "            log_likelihood += np.sum(self.T[i] * log_p)\n",
    "        \n",
    "        # Вычисляем ELBO\n",
    "        entropy = -np.sum(self.T * np.log(self.T + 1e-10))\n",
    "        elbo = log_likelihood + entropy\n",
    "        \n",
    "        return elbo\n",
    "    \n",
    "    def m_step(self):\n",
    "        \"\"\"\n",
    "        M-шаг: Обновляет параметры модели (p_y и pi)\n",
    "        на основе текущих апостериорных вероятностей T.\n",
    "        \"\"\"\n",
    "        # Обновляем априорные вероятности классов\n",
    "        self.p_y = np.mean(self.T, axis=0)\n",
    "        \n",
    "        # Обновляем матрицы ошибок для каждого разметчика\n",
    "        for j in range(self.n_workers):\n",
    "            for c_true in range(self.n_classes):\n",
    "                # Для каждого истинного класса c_true\n",
    "                # находим все объекты, оцененные разметчиком j\n",
    "                mask = (self.labels_matrix[:, j] >= 0)\n",
    "                if not np.any(mask):\n",
    "                    continue\n",
    "                \n",
    "                # Для всех возможных меток, которые разметчик мог поставить\n",
    "                for c_obs in range(self.n_classes):\n",
    "                    # Находим объекты, которые разметчик j пометил как c_obs\n",
    "                    obs_mask = (self.labels_matrix[:, j] == c_obs)\n",
    "                    \n",
    "                    # Обновляем вероятность, что разметчик j пометит как c_obs,\n",
    "                    # если истинный класс c_true\n",
    "                    numerator = np.sum(self.T[obs_mask, c_true])\n",
    "                    denominator = np.sum(self.T[mask, c_true])\n",
    "                    \n",
    "                    if denominator > 0:\n",
    "                        self.pi[j, c_true, c_obs] = numerator / denominator\n",
    "                    else:\n",
    "                        # Если нет данных, оставляем равномерное распределение\n",
    "                        self.pi[j, c_true, c_obs] = 1.0 / self.n_classes\n",
    "    \n",
    "    def predict(self):\n",
    "        \"\"\"\n",
    "        Возвращает предсказанные истинные метки для объектов.\n",
    "        \n",
    "        Returns:\n",
    "        --------\n",
    "        pd.DataFrame: Фрейм данных с колонками 'item_id' и 'true_label'\n",
    "        \"\"\"\n",
    "        # Выбираем класс с максимальной апостериорной вероятностью\n",
    "        predicted_classes = np.argmax(self.T, axis=1)\n",
    "        \n",
    "        # Преобразуем индексы классов обратно в исходные метки\n",
    "        idx_to_class = {idx: cls for cls, idx in self.class_to_idx.items()}\n",
    "        predictions = [idx_to_class[idx] for idx in predicted_classes]\n",
    "        \n",
    "        # Создаем DataFrame с результатами\n",
    "        results = pd.DataFrame({\n",
    "            'task-id': self.items,\n",
    "            'true_label': predictions\n",
    "        })\n",
    "        \n",
    "        return results\n",
    "    \n",
    "    def run(self, n_iter=10):\n",
    "        \"\"\"\n",
    "        Запускает EM-алгоритм на заданное количество итераций.\n",
    "        \n",
    "        Parameters:\n",
    "        -----------\n",
    "        n_iter : int, default=10\n",
    "            Количество итераций EM-алгоритма.\n",
    "            \n",
    "        Returns:\n",
    "        --------\n",
    "        list: История значений ELBO для мониторинга сходимости.\n",
    "        \"\"\"\n",
    "        # Инициализируем параметры\n",
    "        self.initialize_params()\n",
    "        \n",
    "        # История ELBO для мониторинга сходимости\n",
    "        elbo_history = []\n",
    "        epoches = []\n",
    "\n",
    "        # plt.ion()\n",
    "        fig, ax = plt.subplots(1, 1, figsize=(12, 5))\n",
    "        # elbo_line, = ax.plot([], [], 'r-', label='ELBO')\n",
    "        # ax.grid(True)\n",
    "        # plt.tight_layout()\n",
    "        # fig.canvas.draw()\n",
    "        \n",
    "        # Итерационный процесс EM-алгоритма\n",
    "        for i in tqdm(range(n_iter)):\n",
    "            # E-шаг: Обновляем апостериорные вероятности истинных меток\n",
    "            elbo = self.e_step()\n",
    "            elbo_history.append(elbo)\n",
    "            epoches.append(i)\n",
    "            \n",
    "            # M-шаг: Обновляем параметры модели\n",
    "            self.m_step()\n",
    "\n",
    "            clear_output(wait=True)\n",
    "            plt.close(fig)  # Закрываем предыдущий график\n",
    "            \n",
    "            # Создаем новый\n",
    "            fig, ax = plt.subplots(1, 1, figsize=(12, 5))\n",
    "            \n",
    "            # График потерь\n",
    "            ax.plot(elbo_history, 'b-')\n",
    "            # ax.set_title('Training Loss')\n",
    "            # ax.set_xlabel('Epoch')\n",
    "            ax.grid(True)\n",
    "            \n",
    "            plt.tight_layout()\n",
    "            plt.show()\n",
    "\n",
    "            # ax.relim()\n",
    "            # ax.autoscale_view()\n",
    "            time.sleep(1)\n",
    "        plt.show()\n",
    "        # plt.ioff()\n",
    "        \n",
    "        return elbo_history\n"
   ]
  },
  {
   "cell_type": "markdown",
   "id": "98c0209d",
   "metadata": {},
   "source": [
    "**Задание 2 (3 балла)** \n",
    "\n",
    "Реализуйте следующие методы агрегации результатов разметки в краудсорсинге:\n",
    "\n",
    "* голосование по большинству;\n",
    "* метод Дэвида-Скина.\n",
    "\n",
    "Оба метода должны возвращать вероятность принадлежности объекта каждому из классов (итоговая метка получается выбором класса с наибольшей оценкой вероятности). \n",
    "\n",
    "Заметим, что метод голосования по большинству можно реализовать с помощью одной агрегирующей функцией `pandas.crosstab`, а метод Дэвида-Скина основывается на EM-алгоритме (при реализации стоит учесть, что EM-алгоритм сходится в локальные оптимумы, то есть его стоит запускать из разных начальных приближений).\n",
    "\n",
    "Примените эти два метода к датасетам *Toloka Aggregation Relevance 2* и *Toloka Aggregation Relevance 5*, которые можно скачать <a href=\"https://toloka.ai/ru/datasets\">тут</a>, и сравните их между собой. \n",
    "\n",
    "Обратите внимание, что в последнем датасете 5 различных меток, причем некоторые объекты в датасете имеют не один, а несколько правильных ответов. Любой из таких ответов считается правильным."
   ]
  },
  {
   "cell_type": "markdown",
   "id": "97f2358e-3154-45c8-8879-a14475a82443",
   "metadata": {},
   "source": [
    "**В Я.Контест нужно загрузить только .csv файлы в следующем формате.**"
   ]
  },
  {
   "cell_type": "code",
   "execution_count": 4,
   "id": "c24473e8-ddff-4b3c-adbf-e3a7cc8c70f0",
   "metadata": {},
   "outputs": [
    {
     "name": "stdout",
     "output_type": "stream",
     "text": [
      "Path to dataset files: /Users/sokolov-kir-b/.cache/kagglehub/datasets/valentinbiryukov/tlkagg2/versions/1\n"
     ]
    }
   ],
   "source": [
    "# Download latest version\n",
    "path = kagglehub.dataset_download(\"valentinbiryukov/tlkagg2\")\n",
    "\n",
    "print(\"Path to dataset files:\", path)\n"
   ]
  },
  {
   "cell_type": "code",
   "execution_count": 5,
   "id": "e6c40fe7-781b-4308-bdf5-32bf8bc3a770",
   "metadata": {},
   "outputs": [
    {
     "name": "stdout",
     "output_type": "stream",
     "text": [
      "Path to dataset files: /Users/sokolov-kir-b/.cache/kagglehub/datasets/valentinbiryukov/toloka-aggregation-relevance-5/versions/1\n"
     ]
    }
   ],
   "source": [
    "# Download latest version\n",
    "path = kagglehub.dataset_download(\"valentinbiryukov/toloka-aggregation-relevance-5\")\n",
    "\n",
    "print(\"Path to dataset files:\", path)"
   ]
  },
  {
   "cell_type": "code",
   "execution_count": 6,
   "id": "b976e136",
   "metadata": {},
   "outputs": [],
   "source": [
    "def majority_vote_agg(df: pd.DataFrame) -> pd.DataFrame:\n",
    "    result = pd.crosstab(df['task-id'],df['label']).idxmax(axis =1)\n",
    "    return result.to_frame()"
   ]
  },
  {
   "cell_type": "markdown",
   "id": "f852db7f-4dd6-4805-8e74-6f47c0a601bc",
   "metadata": {},
   "source": [
    "#### TlkAgg2"
   ]
  },
  {
   "cell_type": "code",
   "execution_count": 7,
   "id": "a4ea489b-8ef5-46cb-80ea-a455b62061a0",
   "metadata": {},
   "outputs": [],
   "source": [
    "tikagg2_crowd = pd.read_csv('./tlkagg2/versions/1/crowd_labels.tsv',sep='\\t',names=['worker-id', 'task-id','label'])\n",
    "tikagg2_golden = pd.read_csv('./tlkagg2/versions/1/golden_labels.tsv',sep='\\t',names=['task-id','label'])"
   ]
  },
  {
   "cell_type": "code",
   "execution_count": 8,
   "id": "019fb85b-bc2c-4130-b19a-ae6816617291",
   "metadata": {},
   "outputs": [
    {
     "data": {
      "text/html": [
       "<div>\n",
       "<style scoped>\n",
       "    .dataframe tbody tr th:only-of-type {\n",
       "        vertical-align: middle;\n",
       "    }\n",
       "\n",
       "    .dataframe tbody tr th {\n",
       "        vertical-align: top;\n",
       "    }\n",
       "\n",
       "    .dataframe thead th {\n",
       "        text-align: right;\n",
       "    }\n",
       "</style>\n",
       "<table border=\"1\" class=\"dataframe\">\n",
       "  <thead>\n",
       "    <tr style=\"text-align: right;\">\n",
       "      <th></th>\n",
       "      <th>worker-id</th>\n",
       "      <th>task-id</th>\n",
       "      <th>label</th>\n",
       "    </tr>\n",
       "  </thead>\n",
       "  <tbody>\n",
       "    <tr>\n",
       "      <th>0</th>\n",
       "      <td>w851</td>\n",
       "      <td>t30685</td>\n",
       "      <td>1</td>\n",
       "    </tr>\n",
       "    <tr>\n",
       "      <th>1</th>\n",
       "      <td>w6991</td>\n",
       "      <td>t30008</td>\n",
       "      <td>0</td>\n",
       "    </tr>\n",
       "    <tr>\n",
       "      <th>2</th>\n",
       "      <td>w2596</td>\n",
       "      <td>t36316</td>\n",
       "      <td>0</td>\n",
       "    </tr>\n",
       "    <tr>\n",
       "      <th>3</th>\n",
       "      <td>w5507</td>\n",
       "      <td>t15145</td>\n",
       "      <td>1</td>\n",
       "    </tr>\n",
       "    <tr>\n",
       "      <th>4</th>\n",
       "      <td>w2982</td>\n",
       "      <td>t44785</td>\n",
       "      <td>1</td>\n",
       "    </tr>\n",
       "  </tbody>\n",
       "</table>\n",
       "</div>"
      ],
      "text/plain": [
       "  worker-id task-id  label\n",
       "0      w851  t30685      1\n",
       "1     w6991  t30008      0\n",
       "2     w2596  t36316      0\n",
       "3     w5507  t15145      1\n",
       "4     w2982  t44785      1"
      ]
     },
     "execution_count": 8,
     "metadata": {},
     "output_type": "execute_result"
    }
   ],
   "source": [
    "tikagg2_crowd.head()"
   ]
  },
  {
   "cell_type": "code",
   "execution_count": 9,
   "id": "3acffbe3-c407-454f-bbfb-8076face3de2",
   "metadata": {},
   "outputs": [
    {
     "data": {
      "text/html": [
       "<div>\n",
       "<style scoped>\n",
       "    .dataframe tbody tr th:only-of-type {\n",
       "        vertical-align: middle;\n",
       "    }\n",
       "\n",
       "    .dataframe tbody tr th {\n",
       "        vertical-align: top;\n",
       "    }\n",
       "\n",
       "    .dataframe thead th {\n",
       "        text-align: right;\n",
       "    }\n",
       "</style>\n",
       "<table border=\"1\" class=\"dataframe\">\n",
       "  <thead>\n",
       "    <tr style=\"text-align: right;\">\n",
       "      <th></th>\n",
       "      <th>task-id</th>\n",
       "      <th>label</th>\n",
       "    </tr>\n",
       "  </thead>\n",
       "  <tbody>\n",
       "    <tr>\n",
       "      <th>0</th>\n",
       "      <td>t30006</td>\n",
       "      <td>0</td>\n",
       "    </tr>\n",
       "    <tr>\n",
       "      <th>1</th>\n",
       "      <td>t33578</td>\n",
       "      <td>0</td>\n",
       "    </tr>\n",
       "    <tr>\n",
       "      <th>2</th>\n",
       "      <td>t22462</td>\n",
       "      <td>1</td>\n",
       "    </tr>\n",
       "    <tr>\n",
       "      <th>3</th>\n",
       "      <td>t52093</td>\n",
       "      <td>0</td>\n",
       "    </tr>\n",
       "    <tr>\n",
       "      <th>4</th>\n",
       "      <td>t26935</td>\n",
       "      <td>0</td>\n",
       "    </tr>\n",
       "  </tbody>\n",
       "</table>\n",
       "</div>"
      ],
      "text/plain": [
       "  task-id  label\n",
       "0  t30006      0\n",
       "1  t33578      0\n",
       "2  t22462      1\n",
       "3  t52093      0\n",
       "4  t26935      0"
      ]
     },
     "execution_count": 9,
     "metadata": {},
     "output_type": "execute_result"
    }
   ],
   "source": [
    "tikagg2_golden.head()"
   ]
  },
  {
   "cell_type": "code",
   "execution_count": 10,
   "id": "695e7442-b177-49d0-8b5d-e147de24330a",
   "metadata": {
    "scrolled": true
   },
   "outputs": [
    {
     "data": {
      "text/html": [
       "<div>\n",
       "<style scoped>\n",
       "    .dataframe tbody tr th:only-of-type {\n",
       "        vertical-align: middle;\n",
       "    }\n",
       "\n",
       "    .dataframe tbody tr th {\n",
       "        vertical-align: top;\n",
       "    }\n",
       "\n",
       "    .dataframe thead th {\n",
       "        text-align: right;\n",
       "    }\n",
       "</style>\n",
       "<table border=\"1\" class=\"dataframe\">\n",
       "  <thead>\n",
       "    <tr style=\"text-align: right;\">\n",
       "      <th></th>\n",
       "      <th>prediction</th>\n",
       "    </tr>\n",
       "    <tr>\n",
       "      <th>object</th>\n",
       "      <th></th>\n",
       "    </tr>\n",
       "  </thead>\n",
       "  <tbody>\n",
       "    <tr>\n",
       "      <th>t0</th>\n",
       "      <td>1</td>\n",
       "    </tr>\n",
       "    <tr>\n",
       "      <th>t1</th>\n",
       "      <td>1</td>\n",
       "    </tr>\n",
       "    <tr>\n",
       "      <th>t10</th>\n",
       "      <td>1</td>\n",
       "    </tr>\n",
       "    <tr>\n",
       "      <th>t100</th>\n",
       "      <td>0</td>\n",
       "    </tr>\n",
       "    <tr>\n",
       "      <th>t1000</th>\n",
       "      <td>0</td>\n",
       "    </tr>\n",
       "    <tr>\n",
       "      <th>...</th>\n",
       "      <td>...</td>\n",
       "    </tr>\n",
       "    <tr>\n",
       "      <th>t9995</th>\n",
       "      <td>1</td>\n",
       "    </tr>\n",
       "    <tr>\n",
       "      <th>t9996</th>\n",
       "      <td>0</td>\n",
       "    </tr>\n",
       "    <tr>\n",
       "      <th>t9997</th>\n",
       "      <td>0</td>\n",
       "    </tr>\n",
       "    <tr>\n",
       "      <th>t9998</th>\n",
       "      <td>0</td>\n",
       "    </tr>\n",
       "    <tr>\n",
       "      <th>t9999</th>\n",
       "      <td>1</td>\n",
       "    </tr>\n",
       "  </tbody>\n",
       "</table>\n",
       "<p>99319 rows × 1 columns</p>\n",
       "</div>"
      ],
      "text/plain": [
       "        prediction\n",
       "object            \n",
       "t0               1\n",
       "t1               1\n",
       "t10              1\n",
       "t100             0\n",
       "t1000            0\n",
       "...            ...\n",
       "t9995            1\n",
       "t9996            0\n",
       "t9997            0\n",
       "t9998            0\n",
       "t9999            1\n",
       "\n",
       "[99319 rows x 1 columns]"
      ]
     },
     "execution_count": 10,
     "metadata": {},
     "output_type": "execute_result"
    }
   ],
   "source": [
    "tikagg2_maj_pred = majority_vote_agg(tikagg2_crowd)\n",
    "tikagg2_maj_pred.columns = ['prediction']\n",
    "tikagg2_maj_pred.index.name = 'object'\n",
    "tikagg2_maj_pred"
   ]
  },
  {
   "cell_type": "code",
   "execution_count": 11,
   "id": "fb529313-210c-402f-bfc7-3a57b0292baa",
   "metadata": {},
   "outputs": [],
   "source": [
    "tikagg2_maj_pred.to_csv('tikagg2_maj_pred.csv',sep=',')"
   ]
  },
  {
   "cell_type": "markdown",
   "id": "c8eb1833-012b-4a65-aa5d-465bcc0bf7d6",
   "metadata": {},
   "source": [
    "##### Метод Дэвида-Скина"
   ]
  },
  {
   "cell_type": "code",
   "execution_count": 49,
   "id": "445b84f7-d7d0-4d48-8fb1-d7d8624bebde",
   "metadata": {},
   "outputs": [],
   "source": [
    "tikagg2_david_skene = DawidSkene(tikagg2_crowd)"
   ]
  },
  {
   "cell_type": "code",
   "execution_count": 50,
   "id": "e09a54d8-eac2-4b80-8d5f-c18cfd6bdac6",
   "metadata": {},
   "outputs": [
    {
     "data": {
      "image/png": "[encoded data removed]",
      "text/plain": [
       "<Figure size 1200x500 with 1 Axes>"
      ]
     },
     "metadata": {},
     "output_type": "display_data"
    },
    {
     "name": "stderr",
     "output_type": "stream",
     "text": [
      "100%|██████████| 30/30 [34:08<00:00, 68.29s/it]\n"
     ]
    },
    {
     "data": {
      "text/plain": [
       "[np.float64(-331948.83184989705),\n",
       " np.float64(-264342.1184851637),\n",
       " np.float64(-262100.12428047598),\n",
       " np.float64(-261531.60289250276),\n",
       " np.float64(-261319.3221864554),\n",
       " np.float64(-261219.14050096538),\n",
       " np.float64(-261163.83853624057),\n",
       " np.float64(-261130.03516937018),\n",
       " np.float64(-261108.00979629086),\n",
       " np.float64(-261092.81965769603),\n",
       " np.float64(-261081.72688712645),\n",
       " np.float64(-261073.1923350047),\n",
       " np.float64(-261066.29910761057),\n",
       " np.float64(-261060.45552694149),\n",
       " np.float64(-261055.24828483854),\n",
       " np.float64(-261050.4079074217),\n",
       " np.float64(-261045.945361429),\n",
       " np.float64(-261042.24354100737),\n",
       " np.float64(-261039.5231004796),\n",
       " np.float64(-261037.5347972741),\n",
       " np.float64(-261035.98591238167),\n",
       " np.float64(-261034.72178427075),\n",
       " np.float64(-261033.66310118418),\n",
       " np.float64(-261032.76034304587),\n",
       " np.float64(-261031.9777974277),\n",
       " np.float64(-261031.28880626897),\n",
       " np.float64(-261030.67515780588),\n",
       " np.float64(-261030.12743913053),\n",
       " np.float64(-261029.6434216006),\n",
       " np.float64(-261029.22286190285)]"
      ]
     },
     "execution_count": 50,
     "metadata": {},
     "output_type": "execute_result"
    }
   ],
   "source": [
    "tikagg2_david_skene.run(30)"
   ]
  },
  {
   "cell_type": "code",
   "execution_count": null,
   "id": "62e4ea26-32c9-4495-8e11-78aa00ad1399",
   "metadata": {},
   "outputs": [],
   "source": []
  },
  {
   "cell_type": "code",
   "execution_count": 51,
   "id": "f89ba438-0332-43e7-8086-aee9f86fa638",
   "metadata": {
    "scrolled": true
   },
   "outputs": [
    {
     "name": "stdout",
     "output_type": "stream",
     "text": [
      "Обучение закончилось\n"
     ]
    }
   ],
   "source": [
    "print('Обучение закончилось')"
   ]
  },
  {
   "cell_type": "code",
   "execution_count": 52,
   "id": "9a1e2e4e-aa85-4d20-a33d-679641e05799",
   "metadata": {},
   "outputs": [
    {
     "data": {
      "text/html": [
       "<div>\n",
       "<style scoped>\n",
       "    .dataframe tbody tr th:only-of-type {\n",
       "        vertical-align: middle;\n",
       "    }\n",
       "\n",
       "    .dataframe tbody tr th {\n",
       "        vertical-align: top;\n",
       "    }\n",
       "\n",
       "    .dataframe thead th {\n",
       "        text-align: right;\n",
       "    }\n",
       "</style>\n",
       "<table border=\"1\" class=\"dataframe\">\n",
       "  <thead>\n",
       "    <tr style=\"text-align: right;\">\n",
       "      <th></th>\n",
       "      <th>task-id</th>\n",
       "      <th>true_label</th>\n",
       "    </tr>\n",
       "  </thead>\n",
       "  <tbody>\n",
       "    <tr>\n",
       "      <th>0</th>\n",
       "      <td>t30685</td>\n",
       "      <td>1</td>\n",
       "    </tr>\n",
       "    <tr>\n",
       "      <th>1</th>\n",
       "      <td>t30008</td>\n",
       "      <td>0</td>\n",
       "    </tr>\n",
       "    <tr>\n",
       "      <th>2</th>\n",
       "      <td>t36316</td>\n",
       "      <td>0</td>\n",
       "    </tr>\n",
       "    <tr>\n",
       "      <th>3</th>\n",
       "      <td>t15145</td>\n",
       "      <td>1</td>\n",
       "    </tr>\n",
       "    <tr>\n",
       "      <th>4</th>\n",
       "      <td>t44785</td>\n",
       "      <td>0</td>\n",
       "    </tr>\n",
       "  </tbody>\n",
       "</table>\n",
       "</div>"
      ],
      "text/plain": [
       "  task-id  true_label\n",
       "0  t30685           1\n",
       "1  t30008           0\n",
       "2  t36316           0\n",
       "3  t15145           1\n",
       "4  t44785           0"
      ]
     },
     "execution_count": 52,
     "metadata": {},
     "output_type": "execute_result"
    }
   ],
   "source": [
    "tikagg2_david_skene.predict().head()"
   ]
  },
  {
   "cell_type": "code",
   "execution_count": 53,
   "id": "d319ef9d-f19f-4a2d-b29e-1acb94e9ef9d",
   "metadata": {},
   "outputs": [
    {
     "data": {
      "text/html": [
       "<div>\n",
       "<style scoped>\n",
       "    .dataframe tbody tr th:only-of-type {\n",
       "        vertical-align: middle;\n",
       "    }\n",
       "\n",
       "    .dataframe tbody tr th {\n",
       "        vertical-align: top;\n",
       "    }\n",
       "\n",
       "    .dataframe thead th {\n",
       "        text-align: right;\n",
       "    }\n",
       "</style>\n",
       "<table border=\"1\" class=\"dataframe\">\n",
       "  <thead>\n",
       "    <tr style=\"text-align: right;\">\n",
       "      <th></th>\n",
       "      <th>prediction</th>\n",
       "    </tr>\n",
       "    <tr>\n",
       "      <th>object</th>\n",
       "      <th></th>\n",
       "    </tr>\n",
       "  </thead>\n",
       "  <tbody>\n",
       "    <tr>\n",
       "      <th>t30685</th>\n",
       "      <td>1</td>\n",
       "    </tr>\n",
       "    <tr>\n",
       "      <th>t30008</th>\n",
       "      <td>0</td>\n",
       "    </tr>\n",
       "    <tr>\n",
       "      <th>t36316</th>\n",
       "      <td>0</td>\n",
       "    </tr>\n",
       "    <tr>\n",
       "      <th>t15145</th>\n",
       "      <td>1</td>\n",
       "    </tr>\n",
       "    <tr>\n",
       "      <th>t44785</th>\n",
       "      <td>0</td>\n",
       "    </tr>\n",
       "    <tr>\n",
       "      <th>...</th>\n",
       "      <td>...</td>\n",
       "    </tr>\n",
       "    <tr>\n",
       "      <th>t95222</th>\n",
       "      <td>0</td>\n",
       "    </tr>\n",
       "    <tr>\n",
       "      <th>t83525</th>\n",
       "      <td>0</td>\n",
       "    </tr>\n",
       "    <tr>\n",
       "      <th>t49227</th>\n",
       "      <td>0</td>\n",
       "    </tr>\n",
       "    <tr>\n",
       "      <th>t96106</th>\n",
       "      <td>1</td>\n",
       "    </tr>\n",
       "    <tr>\n",
       "      <th>t16185</th>\n",
       "      <td>1</td>\n",
       "    </tr>\n",
       "  </tbody>\n",
       "</table>\n",
       "<p>99319 rows × 1 columns</p>\n",
       "</div>"
      ],
      "text/plain": [
       "        prediction\n",
       "object            \n",
       "t30685           1\n",
       "t30008           0\n",
       "t36316           0\n",
       "t15145           1\n",
       "t44785           0\n",
       "...            ...\n",
       "t95222           0\n",
       "t83525           0\n",
       "t49227           0\n",
       "t96106           1\n",
       "t16185           1\n",
       "\n",
       "[99319 rows x 1 columns]"
      ]
     },
     "execution_count": 53,
     "metadata": {},
     "output_type": "execute_result"
    }
   ],
   "source": [
    "tikagg2_em_pred = tikagg2_david_skene.predict()\n",
    "tikagg2_em_pred.columns = ['object','prediction']\n",
    "tikagg2_em_pred = tikagg2_em_pred.set_index('object')\n",
    "tikagg2_em_pred"
   ]
  },
  {
   "cell_type": "code",
   "execution_count": 54,
   "id": "003fc1e1-9201-44b9-b9c0-405f0f493ea7",
   "metadata": {},
   "outputs": [],
   "source": [
    "tikagg2_em_pred.to_csv('tikagg2_em_pred.csv',sep=',')"
   ]
  },
  {
   "cell_type": "markdown",
   "id": "d8e382de-2761-4263-8447-d33cb49aebff",
   "metadata": {},
   "source": [
    "#### TlkAgg5"
   ]
  },
  {
   "cell_type": "code",
   "execution_count": 33,
   "id": "beeaa328-669e-4535-91ed-1ddf43c1b6c9",
   "metadata": {},
   "outputs": [],
   "source": [
    "tikagg5_crowd = pd.read_csv('./toloka-aggregation-relevance-5/versions/1/crowd_labels.tsv',sep='\\t',names=['worker-id', 'task-id','label'])\n",
    "tikagg5_golden = pd.read_csv('./toloka-aggregation-relevance-5/versions/1/golden_labels.tsv',sep='\\t',names=['task-id','label'])"
   ]
  },
  {
   "cell_type": "code",
   "execution_count": 34,
   "id": "ad5c3ab0-33e8-403e-818d-2b606d53e1d2",
   "metadata": {},
   "outputs": [
    {
     "data": {
      "text/html": [
       "<div>\n",
       "<style scoped>\n",
       "    .dataframe tbody tr th:only-of-type {\n",
       "        vertical-align: middle;\n",
       "    }\n",
       "\n",
       "    .dataframe tbody tr th {\n",
       "        vertical-align: top;\n",
       "    }\n",
       "\n",
       "    .dataframe thead th {\n",
       "        text-align: right;\n",
       "    }\n",
       "</style>\n",
       "<table border=\"1\" class=\"dataframe\">\n",
       "  <thead>\n",
       "    <tr style=\"text-align: right;\">\n",
       "      <th></th>\n",
       "      <th>worker-id</th>\n",
       "      <th>task-id</th>\n",
       "      <th>label</th>\n",
       "    </tr>\n",
       "  </thead>\n",
       "  <tbody>\n",
       "    <tr>\n",
       "      <th>0</th>\n",
       "      <td>w360</td>\n",
       "      <td>t186849</td>\n",
       "      <td>4</td>\n",
       "    </tr>\n",
       "    <tr>\n",
       "      <th>1</th>\n",
       "      <td>w43</td>\n",
       "      <td>t174611</td>\n",
       "      <td>5</td>\n",
       "    </tr>\n",
       "    <tr>\n",
       "      <th>2</th>\n",
       "      <td>w1040</td>\n",
       "      <td>t198665</td>\n",
       "      <td>3</td>\n",
       "    </tr>\n",
       "    <tr>\n",
       "      <th>3</th>\n",
       "      <td>w618</td>\n",
       "      <td>t63171</td>\n",
       "      <td>5</td>\n",
       "    </tr>\n",
       "    <tr>\n",
       "      <th>4</th>\n",
       "      <td>w98</td>\n",
       "      <td>t141574</td>\n",
       "      <td>5</td>\n",
       "    </tr>\n",
       "  </tbody>\n",
       "</table>\n",
       "</div>"
      ],
      "text/plain": [
       "  worker-id  task-id  label\n",
       "0      w360  t186849      4\n",
       "1       w43  t174611      5\n",
       "2     w1040  t198665      3\n",
       "3      w618   t63171      5\n",
       "4       w98  t141574      5"
      ]
     },
     "execution_count": 34,
     "metadata": {},
     "output_type": "execute_result"
    }
   ],
   "source": [
    "tikagg5_crowd.head()"
   ]
  },
  {
   "cell_type": "code",
   "execution_count": 35,
   "id": "6289d3c5-33e7-4ab0-a2d7-5e968ebbeaf6",
   "metadata": {},
   "outputs": [
    {
     "data": {
      "text/html": [
       "<div>\n",
       "<style scoped>\n",
       "    .dataframe tbody tr th:only-of-type {\n",
       "        vertical-align: middle;\n",
       "    }\n",
       "\n",
       "    .dataframe tbody tr th {\n",
       "        vertical-align: top;\n",
       "    }\n",
       "\n",
       "    .dataframe thead th {\n",
       "        text-align: right;\n",
       "    }\n",
       "</style>\n",
       "<table border=\"1\" class=\"dataframe\">\n",
       "  <thead>\n",
       "    <tr style=\"text-align: right;\">\n",
       "      <th></th>\n",
       "      <th>task-id</th>\n",
       "      <th>label</th>\n",
       "    </tr>\n",
       "  </thead>\n",
       "  <tbody>\n",
       "    <tr>\n",
       "      <th>0</th>\n",
       "      <td>t342646</td>\n",
       "      <td>2</td>\n",
       "    </tr>\n",
       "    <tr>\n",
       "      <th>1</th>\n",
       "      <td>t189317</td>\n",
       "      <td>4</td>\n",
       "    </tr>\n",
       "    <tr>\n",
       "      <th>2</th>\n",
       "      <td>t48377</td>\n",
       "      <td>5</td>\n",
       "    </tr>\n",
       "    <tr>\n",
       "      <th>3</th>\n",
       "      <td>t73830</td>\n",
       "      <td>3</td>\n",
       "    </tr>\n",
       "    <tr>\n",
       "      <th>4</th>\n",
       "      <td>t60415</td>\n",
       "      <td>2</td>\n",
       "    </tr>\n",
       "  </tbody>\n",
       "</table>\n",
       "</div>"
      ],
      "text/plain": [
       "   task-id  label\n",
       "0  t342646      2\n",
       "1  t189317      4\n",
       "2   t48377      5\n",
       "3   t73830      3\n",
       "4   t60415      2"
      ]
     },
     "execution_count": 35,
     "metadata": {},
     "output_type": "execute_result"
    }
   ],
   "source": [
    "tikagg5_golden.head()"
   ]
  },
  {
   "cell_type": "code",
   "execution_count": 36,
   "id": "d027ee95-4e59-45a6-b20c-297f6e79112d",
   "metadata": {},
   "outputs": [
    {
     "data": {
      "text/html": [
       "<div>\n",
       "<style scoped>\n",
       "    .dataframe tbody tr th:only-of-type {\n",
       "        vertical-align: middle;\n",
       "    }\n",
       "\n",
       "    .dataframe tbody tr th {\n",
       "        vertical-align: top;\n",
       "    }\n",
       "\n",
       "    .dataframe thead th {\n",
       "        text-align: right;\n",
       "    }\n",
       "</style>\n",
       "<table border=\"1\" class=\"dataframe\">\n",
       "  <thead>\n",
       "    <tr style=\"text-align: right;\">\n",
       "      <th></th>\n",
       "      <th>prediction</th>\n",
       "    </tr>\n",
       "    <tr>\n",
       "      <th>object</th>\n",
       "      <th></th>\n",
       "    </tr>\n",
       "  </thead>\n",
       "  <tbody>\n",
       "    <tr>\n",
       "      <th>t0</th>\n",
       "      <td>3</td>\n",
       "    </tr>\n",
       "    <tr>\n",
       "      <th>t1</th>\n",
       "      <td>5</td>\n",
       "    </tr>\n",
       "    <tr>\n",
       "      <th>t10</th>\n",
       "      <td>5</td>\n",
       "    </tr>\n",
       "    <tr>\n",
       "      <th>t100</th>\n",
       "      <td>5</td>\n",
       "    </tr>\n",
       "    <tr>\n",
       "      <th>t1000</th>\n",
       "      <td>5</td>\n",
       "    </tr>\n",
       "    <tr>\n",
       "      <th>...</th>\n",
       "      <td>...</td>\n",
       "    </tr>\n",
       "    <tr>\n",
       "      <th>t99995</th>\n",
       "      <td>4</td>\n",
       "    </tr>\n",
       "    <tr>\n",
       "      <th>t99996</th>\n",
       "      <td>3</td>\n",
       "    </tr>\n",
       "    <tr>\n",
       "      <th>t99997</th>\n",
       "      <td>5</td>\n",
       "    </tr>\n",
       "    <tr>\n",
       "      <th>t99998</th>\n",
       "      <td>5</td>\n",
       "    </tr>\n",
       "    <tr>\n",
       "      <th>t99999</th>\n",
       "      <td>5</td>\n",
       "    </tr>\n",
       "  </tbody>\n",
       "</table>\n",
       "<p>363814 rows × 1 columns</p>\n",
       "</div>"
      ],
      "text/plain": [
       "        prediction\n",
       "object            \n",
       "t0               3\n",
       "t1               5\n",
       "t10              5\n",
       "t100             5\n",
       "t1000            5\n",
       "...            ...\n",
       "t99995           4\n",
       "t99996           3\n",
       "t99997           5\n",
       "t99998           5\n",
       "t99999           5\n",
       "\n",
       "[363814 rows x 1 columns]"
      ]
     },
     "execution_count": 36,
     "metadata": {},
     "output_type": "execute_result"
    }
   ],
   "source": [
    "tikagg5_maj_pred = majority_vote_agg(tikagg5_crowd)\n",
    "tikagg5_maj_pred.columns = ['prediction']\n",
    "tikagg5_maj_pred.index.name = 'object'\n",
    "tikagg5_maj_pred"
   ]
  },
  {
   "cell_type": "code",
   "execution_count": 37,
   "id": "169b9589-aaba-433f-a247-16a690eeaa71",
   "metadata": {},
   "outputs": [],
   "source": [
    "tikagg5_maj_pred.to_csv('tikagg5_maj_pred.csv',sep=',')"
   ]
  },
  {
   "cell_type": "code",
   "execution_count": null,
   "id": "b210fe39-b66b-4c95-bd62-0c1143deda79",
   "metadata": {},
   "outputs": [],
   "source": []
  },
  {
   "cell_type": "markdown",
   "id": "fb32d883-fce8-457f-a64a-de7d77861397",
   "metadata": {},
   "source": [
    "##### Метод Дэвида-Скина"
   ]
  },
  {
   "cell_type": "code",
   "execution_count": 42,
   "id": "710b8439-1ada-4070-a2ef-4926c9c4cdf2",
   "metadata": {},
   "outputs": [],
   "source": [
    "tikagg5_david_skene = DawidSkene(tikagg5_crowd)"
   ]
  },
  {
   "cell_type": "code",
   "execution_count": 43,
   "id": "8a2343de-7681-4f25-884d-bf5349b5795a",
   "metadata": {},
   "outputs": [
    {
     "data": {
      "image/png": "[encoded data removed]",
      "text/plain": [
       "<Figure size 1200x500 with 1 Axes>"
      ]
     },
     "metadata": {},
     "output_type": "display_data"
    },
    {
     "name": "stderr",
     "output_type": "stream",
     "text": [
      "100%|██████████| 20/20 [44:25<00:00, 133.28s/it]\n"
     ]
    },
    {
     "data": {
      "text/plain": [
       "[np.float64(-1673441.3644293465),\n",
       " np.float64(-1115219.0652192328),\n",
       " np.float64(-1019708.3895392929),\n",
       " np.float64(-1000940.7231378639),\n",
       " np.float64(-996237.0599034096),\n",
       " np.float64(-994475.1276490318),\n",
       " np.float64(-993641.4915704941),\n",
       " np.float64(-993142.7063164796),\n",
       " np.float64(-992805.3903355179),\n",
       " np.float64(-992562.89146807),\n",
       " np.float64(-992382.0763465093),\n",
       " np.float64(-992243.239651822),\n",
       " np.float64(-992133.2264599975),\n",
       " np.float64(-992043.405465949),\n",
       " np.float64(-991968.5601156754),\n",
       " np.float64(-991905.4521879298),\n",
       " np.float64(-991851.6493170941),\n",
       " np.float64(-991805.2778591737),\n",
       " np.float64(-991764.8485521141),\n",
       " np.float64(-991729.1868101428)]"
      ]
     },
     "execution_count": 43,
     "metadata": {},
     "output_type": "execute_result"
    }
   ],
   "source": [
    "tikagg5_david_skene.run(20)"
   ]
  },
  {
   "cell_type": "code",
   "execution_count": 44,
   "id": "e4b672a0-44dc-4b14-a6d2-7ed4a9834012",
   "metadata": {
    "scrolled": true
   },
   "outputs": [
    {
     "name": "stdout",
     "output_type": "stream",
     "text": [
      "Обучение закончилось\n"
     ]
    }
   ],
   "source": [
    "print('Обучение закончилось')"
   ]
  },
  {
   "cell_type": "code",
   "execution_count": 45,
   "id": "4e386721-099d-45a5-b51e-20ae73615663",
   "metadata": {},
   "outputs": [
    {
     "data": {
      "text/html": [
       "<div>\n",
       "<style scoped>\n",
       "    .dataframe tbody tr th:only-of-type {\n",
       "        vertical-align: middle;\n",
       "    }\n",
       "\n",
       "    .dataframe tbody tr th {\n",
       "        vertical-align: top;\n",
       "    }\n",
       "\n",
       "    .dataframe thead th {\n",
       "        text-align: right;\n",
       "    }\n",
       "</style>\n",
       "<table border=\"1\" class=\"dataframe\">\n",
       "  <thead>\n",
       "    <tr style=\"text-align: right;\">\n",
       "      <th></th>\n",
       "      <th>task-id</th>\n",
       "      <th>true_label</th>\n",
       "    </tr>\n",
       "  </thead>\n",
       "  <tbody>\n",
       "    <tr>\n",
       "      <th>0</th>\n",
       "      <td>t186849</td>\n",
       "      <td>4</td>\n",
       "    </tr>\n",
       "    <tr>\n",
       "      <th>1</th>\n",
       "      <td>t174611</td>\n",
       "      <td>3</td>\n",
       "    </tr>\n",
       "    <tr>\n",
       "      <th>2</th>\n",
       "      <td>t198665</td>\n",
       "      <td>3</td>\n",
       "    </tr>\n",
       "    <tr>\n",
       "      <th>3</th>\n",
       "      <td>t63171</td>\n",
       "      <td>4</td>\n",
       "    </tr>\n",
       "    <tr>\n",
       "      <th>4</th>\n",
       "      <td>t141574</td>\n",
       "      <td>5</td>\n",
       "    </tr>\n",
       "  </tbody>\n",
       "</table>\n",
       "</div>"
      ],
      "text/plain": [
       "   task-id  true_label\n",
       "0  t186849           4\n",
       "1  t174611           3\n",
       "2  t198665           3\n",
       "3   t63171           4\n",
       "4  t141574           5"
      ]
     },
     "execution_count": 45,
     "metadata": {},
     "output_type": "execute_result"
    }
   ],
   "source": [
    "tikagg5_david_skene.predict().head()"
   ]
  },
  {
   "cell_type": "code",
   "execution_count": 46,
   "id": "9da9a849-a9d1-4522-9100-69e539c88cf6",
   "metadata": {},
   "outputs": [
    {
     "data": {
      "text/html": [
       "<div>\n",
       "<style scoped>\n",
       "    .dataframe tbody tr th:only-of-type {\n",
       "        vertical-align: middle;\n",
       "    }\n",
       "\n",
       "    .dataframe tbody tr th {\n",
       "        vertical-align: top;\n",
       "    }\n",
       "\n",
       "    .dataframe thead th {\n",
       "        text-align: right;\n",
       "    }\n",
       "</style>\n",
       "<table border=\"1\" class=\"dataframe\">\n",
       "  <thead>\n",
       "    <tr style=\"text-align: right;\">\n",
       "      <th></th>\n",
       "      <th>prediction</th>\n",
       "    </tr>\n",
       "    <tr>\n",
       "      <th>object</th>\n",
       "      <th></th>\n",
       "    </tr>\n",
       "  </thead>\n",
       "  <tbody>\n",
       "    <tr>\n",
       "      <th>t186849</th>\n",
       "      <td>4</td>\n",
       "    </tr>\n",
       "    <tr>\n",
       "      <th>t174611</th>\n",
       "      <td>3</td>\n",
       "    </tr>\n",
       "    <tr>\n",
       "      <th>t198665</th>\n",
       "      <td>3</td>\n",
       "    </tr>\n",
       "    <tr>\n",
       "      <th>t63171</th>\n",
       "      <td>4</td>\n",
       "    </tr>\n",
       "    <tr>\n",
       "      <th>t141574</th>\n",
       "      <td>5</td>\n",
       "    </tr>\n",
       "    <tr>\n",
       "      <th>...</th>\n",
       "      <td>...</td>\n",
       "    </tr>\n",
       "    <tr>\n",
       "      <th>t78533</th>\n",
       "      <td>5</td>\n",
       "    </tr>\n",
       "    <tr>\n",
       "      <th>t3642</th>\n",
       "      <td>3</td>\n",
       "    </tr>\n",
       "    <tr>\n",
       "      <th>t323857</th>\n",
       "      <td>3</td>\n",
       "    </tr>\n",
       "    <tr>\n",
       "      <th>t271259</th>\n",
       "      <td>5</td>\n",
       "    </tr>\n",
       "    <tr>\n",
       "      <th>t334910</th>\n",
       "      <td>3</td>\n",
       "    </tr>\n",
       "  </tbody>\n",
       "</table>\n",
       "<p>363814 rows × 1 columns</p>\n",
       "</div>"
      ],
      "text/plain": [
       "         prediction\n",
       "object             \n",
       "t186849           4\n",
       "t174611           3\n",
       "t198665           3\n",
       "t63171            4\n",
       "t141574           5\n",
       "...             ...\n",
       "t78533            5\n",
       "t3642             3\n",
       "t323857           3\n",
       "t271259           5\n",
       "t334910           3\n",
       "\n",
       "[363814 rows x 1 columns]"
      ]
     },
     "execution_count": 46,
     "metadata": {},
     "output_type": "execute_result"
    }
   ],
   "source": [
    "tikagg5_em_pred = tikagg5_david_skene.predict()\n",
    "tikagg5_em_pred.columns = ['object','prediction']\n",
    "tikagg5_em_pred = tikagg5_em_pred.set_index('object')\n",
    "tikagg5_em_pred"
   ]
  },
  {
   "cell_type": "code",
   "execution_count": 47,
   "id": "228ad87e-6565-46bb-be5c-56495a82f3c2",
   "metadata": {},
   "outputs": [],
   "source": [
    "tikagg5_em_pred.to_csv('tikagg5_em_pred.csv',sep=',')"
   ]
  },
  {
   "cell_type": "code",
   "execution_count": null,
   "id": "523abbfa-e72c-4af2-8fad-4811b58f82fa",
   "metadata": {},
   "outputs": [],
   "source": []
  },
  {
   "cell_type": "markdown",
   "id": "076f5dce",
   "metadata": {},
   "source": [
    "**Задание 3 (1 балл)** \n",
    "\n",
    "Попробуйте в методе Дэвида-Скина в качестве начального приближения вероятностей классов для каждого объекта подавать те вероятности, которые посчитаны методом голосования по большинству, и провести сначала M-шаг."
   ]
  },
  {
   "cell_type": "code",
   "execution_count": null,
   "id": "9d566f9f",
   "metadata": {},
   "outputs": [],
   "source": [
    "class DawidSkeneWithMVInit(DawidSkene):\n",
    "    def initialize_params(self):\n",
    "        # your code here"
   ]
  },
  {
   "cell_type": "markdown",
   "id": "f5f9f9a8",
   "metadata": {},
   "source": [
    "Далее мы будем работать с таблицей `vacancies.csv` и нам нужно подготовить данные для работы, а именно сделайте следующее:\n",
    "    \n",
    "- Разбейте данные на обучающую выборку (строки, не содержащие метки кластеров) и тестовую (строки, содержащие метки кластеров)\n",
    "- Предобработайте текст, содержащийся в колонках *name* и *description* (уберите артефакты, нормализуйте и т.д.)"
   ]
  },
  {
   "cell_type": "markdown",
   "id": "784bbc1c",
   "metadata": {},
   "source": [
    "### Тематическое моделирование\n",
    "\n",
    "Тематическое моделирование заключается в поиске тем $T$, которые хорошо бы описывали документы $D$ со словарём $W$. Большинство тематических моделей оперирует данными в формате \"мешка слов\", т.е. учитывают только частоты слов в документах, а не их порядок. Одной из простейших тематических моделей является [PLSA](https://en.wikipedia.org/wiki/Probabilistic_latent_semantic_analysis), которая приводит к задаче стохастического матричного разложения: \n",
    "\n",
    "$$F \\approx \\Phi \\times \\Theta$$\n",
    "где\n",
    "- $F_{W \\times D}$— матрица распределений слов в документах (нормированные частоты)\n",
    "- $\\Phi_{W \\times T}$ — матрица распределений слов в темах (модель)\n",
    "- $\\Theta_{T \\times D}$ — матрица распределений тем в документах (результат применения модели к обучающим данным)\n",
    "\n",
    "Можно сказать, что алгоритмы тематического моделирования производят мягкую бикластеризацию данных:\n",
    " - *мягкую*, так как объекты относятся не строго к одному кластеру, а к нескольким с разными вероятностями\n",
    " - *бикластеризацию*, так как модель одновременно кластеризует слова по темам и темы по документам.\n",
    " \n",
    " С вероятностной точки зрения, задача обучения модели PLSA ставится как максимизация неполного правдоподобия по параметам $\\Phi$ и $\\Theta$. ЕМ-алгоритм для модели PLSA заключается в повторении двух шагов:\n",
    "\n",
    "- **Е-шаг** — оценка распределений тем для каждого слова в каждом документе по параметрам $\\Phi$ и $\\Theta$ (шаг 6);\n",
    "- **М-шаг** — обновление параметров $\\Phi$ и $\\Theta$ на основе полученных оценок (шаги 7 и 9).\n",
    "\n",
    "Существуют различные модификации итерационного процесса, позволяющие снизить расходы по памяти. В данном случае, мы избежим хранения трехмерной матрицы $p_{tdw}$, сразу пересчитывая $\\Theta$ для текущего документа и аккумулируя счетчики $n_{wt}$ для последующего пересчета $\\Phi$.\n",
    "\n",
    "Псевдокод алгоритма записывается следующим образом:\n",
    "\n",
    "1. Инициализировать $\\phi_{wt}^0$ для всех $w \\in W$, $t \\in T$ и $\\theta_{td}^0$ для всех $t \\in T$, $d \\in D$\n",
    "2. Внешний цикл по итерациям $i = 1 ... max\\_iter$:\n",
    "3. $\\quad$ $n_{wt}^i := 0$, $n_t^i := 0$ для всех $w \\in W$ и $t \\in T$ \n",
    "4. $\\quad$ Внутренний цикл по документам $d \\in D$  \n",
    "5. $\\qquad$ $Z_w := \\sum_{t \\in T} \\phi_{wt}^{i-1}\\theta_{td}^{i-1}$ для всех $w \\in d$ $\\cfrac{}{}$\n",
    "6. $\\qquad$ $p_{tdw} := \\cfrac{ \\phi_{wt}^{i-1}\\theta_{td}^{i-1} }{ Z_w }$ (**E-шаг**)\n",
    "7. $\\qquad$ $\\theta_{td}^{i} := \\cfrac{ \\sum_{w \\in d} n_{dw} p_{tdw} }{ n_d }$ для всех $t \\in T$ (**M-шаг**)\n",
    "8. $\\qquad$ Увеличить $n_{wt}^i$ и $n_t^i$ на $n_{dw} p_{tdw}$ для всех $w \\in W$ и $t \\in T$\n",
    "9. $\\quad \\phi_{wt}^i := \\cfrac{n_{wt}^i}{n_t^i}$ для всех $w \\in W$ и $t \\in T$ (**M-шаг**)\n",
    "\n",
    "Обозначения:\n",
    " - $p_{tdw}$ — вероятность темы $t$ для слова $w$ в документе $d$\n",
    " - $\\phi_{wt}$ — элемент матрицы $\\Phi$, соответствующий вероятности слова $w$ в теме $t$\n",
    " - $\\theta_{td}$ — элемент матрицы $\\Theta$, соответствующий вероятности темы $t$ в документе $d$\n",
    " - $n_{wt}$ — элемент матрицы счётчиков отнесения слова $w$ к теме $t$ (путем нормирования этой матрицы получается матрица $\\Phi$)\n",
    " - $Z_w$ — элемент вектора вспомогательных переменных, соответствующий слову $w$\n",
    " - $n_t$ — вектор нормировочных констант для матрицы $n_{wt}$\n",
    " - $n_d$ — вектор нормировочных констант для матрицы $n_{dw}$\n",
    " - $n$ — суммарное число слов в коллекции\n",
    "\n",
    "Для оценивания качества построенной модели и контроля сходимости процесса обучения обычно используют [перплексию](http://www.machinelearning.ru/wiki/images/8/88/Voron-iip9-talk.pdf):\n",
    "\n",
    "$$\\mathcal{P} = \\exp\\bigg(- \\frac{\\mathcal{L}}{n} \\bigg) = \\exp\\bigg(- \\cfrac{1}{n}\\sum_{d \\in D}\\sum_{w \\in d} n_{dw} \\ln \\big(\\sum_{t \\in T}\\phi_{wt}\\theta_{td} \\big)\\bigg)$$\n",
    "\n",
    "Это традиционная мера качества в тематическом моделировании, которая основана на правдоподобии модели $\\mathcal{L}$. Число итераций $max\\_iter$ в алгоритме обучения следует выбирать достаточным для того, чтобы перплексия перестала существенно убывать. Однако известно, что перплексия плохо отражает интерпретируемость найденных тем, поэтому помимо нее обычно используются дополнительные меры или экспертные оценки.\n",
    "\n",
    "**Рекомендации к реализации:**\n",
    "\n",
    "- При делении на нулевые значения нужно просто заменить частное на ноль.\n",
    "- ЕМ-алгоритм стоит реализовывать с использованием векторных операций. Для проверки корректности реализации сперва можно написать скалярную версию, после чего векторизовать её, удостоверившись, что обе реализации дают одинаковый результат. Невекторизованный алгоритм может работать в сотни раз медленнее векторизованного, и его использование может привести к невозможности выполнения задания.\n",
    "- Итерационный процесс следует начинать, инициализировав матрицы $\\Phi$ и $\\Theta$. Инициализация может быть случайной, важно не забыть отнормировать столбцы матриц.\n",
    "- Неэффективная реализация перплексии может в разы замедлить работу алгоритма."
   ]
  },
  {
   "cell_type": "markdown",
   "id": "db8d5d52",
   "metadata": {},
   "source": [
    "**Задание 4 (3 балла)** \n",
    "\n",
    "Реализуйте описанный выше ЕМ-алгоритм для модели *PLSA* и добавьте в вашу реализацию подсчёт перплексии. \n",
    "\n",
    "Примените ваш алгоритм к подготовленным ранее данным (объедините текст из колонок *name* и *description*), рассмотрев число тем T = 5, а также:\n",
    "\n",
    "* Постройте график значения перплексии в зависимости от итерации (убедитесь в корректности реализации: график перплексии должен быть невозрастающим). \n",
    "* Выведите для каждой темы топ-20 наиболее вероятных слов.\n",
    "\n",
    "Посмотрите внимательно на полученные темы. Как вам кажется, получились ли они интерпретируемыми?"
   ]
  },
  {
   "cell_type": "code",
   "execution_count": null,
   "id": "efa99e9f",
   "metadata": {},
   "outputs": [],
   "source": [
    "class PLSA:\n",
    "    def __init__(self, counts: np.matrix, T: int):\n",
    "        self.counts = counts\n",
    "        self.T = T\n",
    "\n",
    "        # your code here\n",
    "\n",
    "        initialize_params()\n",
    "    \n",
    "    def initialize_params(self):\n",
    "        self.Phi = # your code here\n",
    "        self.Theta = # your code here\n",
    "\n",
    "    def step(self):\n",
    "        # your code here\n",
    "\n",
    "    def perplexity(self) -> float:\n",
    "        # your code here"
   ]
  },
  {
   "cell_type": "markdown",
   "id": "06918bea",
   "metadata": {},
   "source": [
    "**Задание 5 (1 балл)** \n",
    "\n",
    "Рассмотрите большее число тем (10, 20) и несколько различных начальных приближений. Проанализируйте результаты и ответьте на следующие вопросы: \n",
    "\n",
    "- Mожно ли сказать, что интерпретируемость каждой темы изменяется с ростом их числа?\n",
    "- Устойчив ли алгоритм к начальному приближению на примере идентичности топовых слов в соответствующих темах?\n",
    "- Отражает ли перплексия качество получаемых моделей? В чём заключается причина хорошего/плохого соответствия?"
   ]
  },
  {
   "cell_type": "markdown",
   "id": "f64c6265",
   "metadata": {},
   "source": [
    "## Кластеризация"
   ]
  },
  {
   "cell_type": "markdown",
   "id": "0a685dd0",
   "metadata": {},
   "source": [
    "**Задание 6 (2 балла)** \n",
    "\n",
    "В данном задание следуют сравнить между собой алгоритмы [KMeans](http://scikit-learn.org/stable/modules/generated/sklearn.cluster.KMeans.html), [DBSCAN](http://scikit-learn.org/stable/modules/generated/sklearn.cluster.DBSCAN.html) и [Birch](http://scikit-learn.org/stable/modules/generated/sklearn.cluster.Birch.html) используя подготовленные ранее данные.\n",
    "\n",
    "Поэксперементируйте с различными способами векторизации текста, например можно:\n",
    "\n",
    "- использовать только *name* / *description*, объединить их в один текст или сконкатенировать векторные представления,\n",
    "- использовать представление в виде мешка слов или какую-либо его модификацию,\n",
    "- сократить размерность векторного представления, используя PCA или векторные представления слов,\n",
    "\n",
    "или сделать что-то более интересное, что вы придумаете!\n",
    "\n",
    "Выберете лучшую комбинацию векторизации и алгоритма кластеризации и визуализируйте полученные кластеры (например, воспользовавшись облаком тегов, или предложите свой способ). Обоснуйте почему вы считаете, что выбранный вами подход для решения задачи кластеризации вакансий является лучшим.\n",
    "\n",
    "**Задание \"со звездочкой\" (1 балл)** \n",
    "\n",
    "Попробуйте обогатить векторное представление полученное из текстов другими признаками из таблицы `vacancies.csv` и добиться лучшей интерпретируемости кластеров."
   ]
  },
  {
   "cell_type": "code",
   "execution_count": null,
   "id": "2a1828ff",
   "metadata": {},
   "outputs": [],
   "source": []
  },
  {
   "cell_type": "markdown",
   "id": "4c697e46",
   "metadata": {},
   "source": [
    "## Частичное обучение\n",
    "\n",
    "Часто у нас есть размеченная выборка только для небольшой части выборки. Тогда мы можем применить подходы _частичного обучения (semi-supervised learning)_. Более подробно про реализацию таких методов в sklearn можно прочитать в разделе [semi-supervised](http://scikit-learn.org/stable/modules/label_propagation.html#semi-supervised)."
   ]
  },
  {
   "cell_type": "markdown",
   "id": "ceffa132",
   "metadata": {},
   "source": [
    "**Задание 7 (2 балла)** \n",
    "\n",
    "В этом задание нужно сделать следующее: \n",
    "\n",
    "- Разделите объекты, у которых существуют метки, на обучающую и тестовую выборки (при этом не обязательно делить в соотношении 70% на 30%). Обогатите обучающую выборку объектами без меток.\n",
    "- Воспользовавшись опытом выполнения задания 6, возьмите \"лучшее\" векторное представление вакансий и обучите [LabelSpreading](http://scikit-learn.org/stable/modules/generated/sklearn.semi_supervised.LabelSpreading.html) (подберите лучшие параметры, опираясь на [F1 score](https://scikit-learn.org/stable/modules/generated/sklearn.metrics.f1_score.html)).\n",
    "- Попробуйте запустить алгоритм несколько раз, отмечая известными различные объекты, а также меняя пропорции разбиения, посчитайте качество и визуализируйте результаты. Можно ли сказать что алгоритм сильно зависит от известных начальных объектов? Есть ли класс, для которого это больше всего заметно?"
   ]
  },
  {
   "cell_type": "code",
   "execution_count": null,
   "id": "f8e44914",
   "metadata": {},
   "outputs": [],
   "source": []
  }
 ],
 "metadata": {
  "kernelspec": {
   "display_name": "Python [conda env:jupyter_main_env]",
   "language": "python",
   "name": "conda-env-jupyter_main_env-py"
  },
  "language_info": {
   "codemirror_mode": {
    "name": "ipython",
    "version": 3
   },
   "file_extension": ".py",
   "mimetype": "text/x-python",
   "name": "python",
   "nbconvert_exporter": "python",
   "pygments_lexer": "ipython3",
   "version": "3.10.18"
  }
 },
 "nbformat": 4,
 "nbformat_minor": 5
}
