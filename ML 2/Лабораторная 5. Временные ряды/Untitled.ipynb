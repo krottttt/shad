{
 "cells": [
  {
   "cell_type": "markdown",
   "id": "d9660f27-f8a2-4bf5-b1cf-9f9688b50b03",
   "metadata": {
    "jp-MarkdownHeadingCollapsed": true
   },
   "source": [
    "## Черновик"
   ]
  },
  {
   "cell_type": "code",
   "execution_count": 2,
   "id": "1e773447-4fc2-4d3a-9e0c-bf71ea33c36f",
   "metadata": {},
   "outputs": [],
   "source": [
    "df_train = pd.read_csv('./demand-forecasting-kernels-only/train.csv')"
   ]
  },
  {
   "cell_type": "code",
   "execution_count": 3,
   "id": "e533f174-1f60-4518-8d8b-ee4c803d0989",
   "metadata": {},
   "outputs": [
    {
     "data": {
      "text/html": [
       "<div>\n",
       "<style scoped>\n",
       "    .dataframe tbody tr th:only-of-type {\n",
       "        vertical-align: middle;\n",
       "    }\n",
       "\n",
       "    .dataframe tbody tr th {\n",
       "        vertical-align: top;\n",
       "    }\n",
       "\n",
       "    .dataframe thead th {\n",
       "        text-align: right;\n",
       "    }\n",
       "</style>\n",
       "<table border=\"1\" class=\"dataframe\">\n",
       "  <thead>\n",
       "    <tr style=\"text-align: right;\">\n",
       "      <th></th>\n",
       "      <th>date</th>\n",
       "      <th>store</th>\n",
       "      <th>item</th>\n",
       "      <th>sales</th>\n",
       "    </tr>\n",
       "  </thead>\n",
       "  <tbody>\n",
       "    <tr>\n",
       "      <th>0</th>\n",
       "      <td>2013-01-01</td>\n",
       "      <td>1</td>\n",
       "      <td>1</td>\n",
       "      <td>13</td>\n",
       "    </tr>\n",
       "    <tr>\n",
       "      <th>1</th>\n",
       "      <td>2013-01-02</td>\n",
       "      <td>1</td>\n",
       "      <td>1</td>\n",
       "      <td>11</td>\n",
       "    </tr>\n",
       "    <tr>\n",
       "      <th>2</th>\n",
       "      <td>2013-01-03</td>\n",
       "      <td>1</td>\n",
       "      <td>1</td>\n",
       "      <td>14</td>\n",
       "    </tr>\n",
       "    <tr>\n",
       "      <th>3</th>\n",
       "      <td>2013-01-04</td>\n",
       "      <td>1</td>\n",
       "      <td>1</td>\n",
       "      <td>13</td>\n",
       "    </tr>\n",
       "    <tr>\n",
       "      <th>4</th>\n",
       "      <td>2013-01-05</td>\n",
       "      <td>1</td>\n",
       "      <td>1</td>\n",
       "      <td>10</td>\n",
       "    </tr>\n",
       "  </tbody>\n",
       "</table>\n",
       "</div>"
      ],
      "text/plain": [
       "         date  store  item  sales\n",
       "0  2013-01-01      1     1     13\n",
       "1  2013-01-02      1     1     11\n",
       "2  2013-01-03      1     1     14\n",
       "3  2013-01-04      1     1     13\n",
       "4  2013-01-05      1     1     10"
      ]
     },
     "execution_count": 3,
     "metadata": {},
     "output_type": "execute_result"
    }
   ],
   "source": [
    "df_train.head()"
   ]
  },
  {
   "cell_type": "code",
   "execution_count": 4,
   "id": "c6b61713-437f-45b8-a5c6-30e6e38e629f",
   "metadata": {},
   "outputs": [
    {
     "data": {
      "text/plain": [
       "(913000, 4)"
      ]
     },
     "execution_count": 4,
     "metadata": {},
     "output_type": "execute_result"
    }
   ],
   "source": [
    "df_train.shape"
   ]
  },
  {
   "cell_type": "code",
   "execution_count": 5,
   "id": "c76d05f2-8df6-4eec-96a9-669c100ca1b0",
   "metadata": {},
   "outputs": [],
   "source": [
    "df_test = pd.read_csv('./demand-forecasting-kernels-only/test.csv')"
   ]
  },
  {
   "cell_type": "code",
   "execution_count": 6,
   "id": "cde8880b-7248-4bf4-b8dd-55c3d53bd1a0",
   "metadata": {},
   "outputs": [
    {
     "data": {
      "text/html": [
       "<div>\n",
       "<style scoped>\n",
       "    .dataframe tbody tr th:only-of-type {\n",
       "        vertical-align: middle;\n",
       "    }\n",
       "\n",
       "    .dataframe tbody tr th {\n",
       "        vertical-align: top;\n",
       "    }\n",
       "\n",
       "    .dataframe thead th {\n",
       "        text-align: right;\n",
       "    }\n",
       "</style>\n",
       "<table border=\"1\" class=\"dataframe\">\n",
       "  <thead>\n",
       "    <tr style=\"text-align: right;\">\n",
       "      <th></th>\n",
       "      <th>id</th>\n",
       "      <th>date</th>\n",
       "      <th>store</th>\n",
       "      <th>item</th>\n",
       "    </tr>\n",
       "  </thead>\n",
       "  <tbody>\n",
       "    <tr>\n",
       "      <th>0</th>\n",
       "      <td>0</td>\n",
       "      <td>2018-01-01</td>\n",
       "      <td>1</td>\n",
       "      <td>1</td>\n",
       "    </tr>\n",
       "    <tr>\n",
       "      <th>1</th>\n",
       "      <td>1</td>\n",
       "      <td>2018-01-02</td>\n",
       "      <td>1</td>\n",
       "      <td>1</td>\n",
       "    </tr>\n",
       "    <tr>\n",
       "      <th>2</th>\n",
       "      <td>2</td>\n",
       "      <td>2018-01-03</td>\n",
       "      <td>1</td>\n",
       "      <td>1</td>\n",
       "    </tr>\n",
       "    <tr>\n",
       "      <th>3</th>\n",
       "      <td>3</td>\n",
       "      <td>2018-01-04</td>\n",
       "      <td>1</td>\n",
       "      <td>1</td>\n",
       "    </tr>\n",
       "    <tr>\n",
       "      <th>4</th>\n",
       "      <td>4</td>\n",
       "      <td>2018-01-05</td>\n",
       "      <td>1</td>\n",
       "      <td>1</td>\n",
       "    </tr>\n",
       "  </tbody>\n",
       "</table>\n",
       "</div>"
      ],
      "text/plain": [
       "   id        date  store  item\n",
       "0   0  2018-01-01      1     1\n",
       "1   1  2018-01-02      1     1\n",
       "2   2  2018-01-03      1     1\n",
       "3   3  2018-01-04      1     1\n",
       "4   4  2018-01-05      1     1"
      ]
     },
     "execution_count": 6,
     "metadata": {},
     "output_type": "execute_result"
    }
   ],
   "source": [
    "df_test.head()"
   ]
  },
  {
   "cell_type": "code",
   "execution_count": 7,
   "id": "6cb85ce8-9833-4588-92f6-597213be49e0",
   "metadata": {},
   "outputs": [
    {
     "data": {
      "text/plain": [
       "(45000, 4)"
      ]
     },
     "execution_count": 7,
     "metadata": {},
     "output_type": "execute_result"
    }
   ],
   "source": [
    "df_test.shape"
   ]
  },
  {
   "cell_type": "code",
   "execution_count": 8,
   "id": "b627e94c-6239-4034-bcb9-151ffecb8173",
   "metadata": {},
   "outputs": [],
   "source": [
    "df_sample_submission = pd.read_csv('./demand-forecasting-kernels-only/sample_submission.csv')"
   ]
  },
  {
   "cell_type": "code",
   "execution_count": 9,
   "id": "93da503c-7b54-4125-ad2d-0d33e4c8f2af",
   "metadata": {},
   "outputs": [
    {
     "data": {
      "text/html": [
       "<div>\n",
       "<style scoped>\n",
       "    .dataframe tbody tr th:only-of-type {\n",
       "        vertical-align: middle;\n",
       "    }\n",
       "\n",
       "    .dataframe tbody tr th {\n",
       "        vertical-align: top;\n",
       "    }\n",
       "\n",
       "    .dataframe thead th {\n",
       "        text-align: right;\n",
       "    }\n",
       "</style>\n",
       "<table border=\"1\" class=\"dataframe\">\n",
       "  <thead>\n",
       "    <tr style=\"text-align: right;\">\n",
       "      <th></th>\n",
       "      <th>id</th>\n",
       "      <th>sales</th>\n",
       "    </tr>\n",
       "  </thead>\n",
       "  <tbody>\n",
       "    <tr>\n",
       "      <th>0</th>\n",
       "      <td>0</td>\n",
       "      <td>52</td>\n",
       "    </tr>\n",
       "    <tr>\n",
       "      <th>1</th>\n",
       "      <td>1</td>\n",
       "      <td>52</td>\n",
       "    </tr>\n",
       "    <tr>\n",
       "      <th>2</th>\n",
       "      <td>2</td>\n",
       "      <td>52</td>\n",
       "    </tr>\n",
       "    <tr>\n",
       "      <th>3</th>\n",
       "      <td>3</td>\n",
       "      <td>52</td>\n",
       "    </tr>\n",
       "    <tr>\n",
       "      <th>4</th>\n",
       "      <td>4</td>\n",
       "      <td>52</td>\n",
       "    </tr>\n",
       "  </tbody>\n",
       "</table>\n",
       "</div>"
      ],
      "text/plain": [
       "   id  sales\n",
       "0   0     52\n",
       "1   1     52\n",
       "2   2     52\n",
       "3   3     52\n",
       "4   4     52"
      ]
     },
     "execution_count": 9,
     "metadata": {},
     "output_type": "execute_result"
    }
   ],
   "source": [
    "df_sample_submission.head()"
   ]
  },
  {
   "cell_type": "code",
   "execution_count": 10,
   "id": "5e53f87b-2d0f-4af1-87e8-a45c995b336d",
   "metadata": {},
   "outputs": [
    {
     "data": {
      "text/plain": [
       "(45000, 2)"
      ]
     },
     "execution_count": 10,
     "metadata": {},
     "output_type": "execute_result"
    }
   ],
   "source": [
    "df_sample_submission.shape"
   ]
  },
  {
   "cell_type": "code",
   "execution_count": 11,
   "id": "81f99ed8-7eb0-4f38-82bc-37811d2e61ce",
   "metadata": {},
   "outputs": [],
   "source": [
    "from contest.file import extract_hybrid_strategy_features,read_timeseries,build_datasets,extract_advanced_features"
   ]
  },
  {
   "cell_type": "code",
   "execution_count": 12,
   "id": "8ac64d07-13fc-477b-b152-fc1a5e7bf73e",
   "metadata": {},
   "outputs": [],
   "source": [
    "train_ts, val_ts = read_timeseries('./demand-forecasting-kernels-only/train.csv')"
   ]
  },
  {
   "cell_type": "code",
   "execution_count": 13,
   "id": "7ed305c2-34ad-4eab-9c69-5228b3bea360",
   "metadata": {},
   "outputs": [
    {
     "data": {
      "text/plain": [
       "date\n",
       "2013-01-01    13\n",
       "2013-01-02    11\n",
       "2013-01-03    14\n",
       "2013-01-04    13\n",
       "2013-01-05    10\n",
       "              ..\n",
       "2016-12-27    10\n",
       "2016-12-28    16\n",
       "2016-12-29    21\n",
       "2016-12-30    24\n",
       "2016-12-31    14\n",
       "Name: sales, Length: 1461, dtype: int64"
      ]
     },
     "execution_count": 13,
     "metadata": {},
     "output_type": "execute_result"
    }
   ],
   "source": [
    "train_ts"
   ]
  },
  {
   "cell_type": "code",
   "execution_count": 14,
   "id": "efe8bb2f-3b38-464c-85a1-33c25d7499db",
   "metadata": {},
   "outputs": [
    {
     "data": {
      "text/plain": [
       "date\n",
       "2017-01-01    19\n",
       "2017-01-02    15\n",
       "2017-01-03    10\n",
       "2017-01-04    16\n",
       "2017-01-05    14\n",
       "              ..\n",
       "2017-12-27    14\n",
       "2017-12-28    19\n",
       "2017-12-29    15\n",
       "2017-12-30    27\n",
       "2017-12-31    23\n",
       "Name: sales, Length: 365, dtype: int64"
      ]
     },
     "execution_count": 14,
     "metadata": {},
     "output_type": "execute_result"
    }
   ],
   "source": [
    "val_ts"
   ]
  },
  {
   "cell_type": "code",
   "execution_count": 15,
   "id": "c7ac6df3-bae0-4804-9911-4f551d89d2b9",
   "metadata": {},
   "outputs": [
    {
     "data": {
      "text/plain": [
       "array([20, 21, 13, 20, 16, 10, 16, 21, 24, 14])"
      ]
     },
     "execution_count": 15,
     "metadata": {},
     "output_type": "execute_result"
    }
   ],
   "source": [
    "extract_hybrid_strategy_features(train_ts,5,5)"
   ]
  },
  {
   "cell_type": "code",
   "execution_count": 16,
   "id": "62716746-ea17-446f-95a2-4b726568343a",
   "metadata": {},
   "outputs": [],
   "source": [
    "data1 = build_datasets(train_ts[:100],extract_hybrid_strategy_features,5,3)"
   ]
  },
  {
   "cell_type": "code",
   "execution_count": 17,
   "id": "242788a2-e44b-45eb-afdf-85f49ea264c2",
   "metadata": {},
   "outputs": [
    {
     "data": {
      "text/plain": [
       "date\n",
       "2013-01-01    13\n",
       "2013-01-02    11\n",
       "2013-01-03    14\n",
       "2013-01-04    13\n",
       "2013-01-05    10\n",
       "2013-01-06    12\n",
       "2013-01-07    10\n",
       "2013-01-08     9\n",
       "2013-01-09    12\n",
       "2013-01-10     9\n",
       "2013-01-11     9\n",
       "Name: sales, dtype: int64"
      ]
     },
     "execution_count": 17,
     "metadata": {},
     "output_type": "execute_result"
    }
   ],
   "source": [
    "train_ts[:11]"
   ]
  },
  {
   "cell_type": "code",
   "execution_count": 18,
   "id": "3764b3ff-ffe3-4559-87b0-ec1db6128a49",
   "metadata": {},
   "outputs": [],
   "source": [
    "# data1"
   ]
  },
  {
   "cell_type": "code",
   "execution_count": 19,
   "id": "d1c68931-7542-4044-9e76-e6c4ea91d0fd",
   "metadata": {},
   "outputs": [
    {
     "name": "stdout",
     "output_type": "stream",
     "text": [
      "(95, 5)\n",
      "(94, 6)\n",
      "(93, 7)\n"
     ]
    }
   ],
   "source": [
    "for x in data1:\n",
    "    print(x[0].shape)"
   ]
  },
  {
   "cell_type": "code",
   "execution_count": 20,
   "id": "378f0b86-1351-43ba-99ee-6375946e2d8f",
   "metadata": {},
   "outputs": [],
   "source": [
    "arr = extract_hybrid_strategy_features(train_ts,5,5)"
   ]
  },
  {
   "cell_type": "code",
   "execution_count": 22,
   "id": "1d2f2ac6-3479-4939-bae0-d22bde41c84d",
   "metadata": {},
   "outputs": [
    {
     "data": {
      "text/plain": [
       "array([20, 21, 13, 20, 16, 10, 16, 21, 24, 14,  1])"
      ]
     },
     "execution_count": 22,
     "metadata": {},
     "output_type": "execute_result"
    }
   ],
   "source": [
    "arr = np.append(arr,1)\n",
    "arr"
   ]
  },
  {
   "cell_type": "markdown",
   "id": "e09e360e-4063-4511-a115-35580a80116a",
   "metadata": {},
   "source": [
    "## Подготовка данных"
   ]
  },
  {
   "cell_type": "code",
   "execution_count": 3,
   "id": "beef9e00-0f7d-416d-9465-727356a37cfc",
   "metadata": {},
   "outputs": [],
   "source": [
    "import datetime\n",
    "import sklearn\n",
    "import typing as tp\n",
    "import numpy as np\n",
    "import pandas as pd\n",
    "\n",
    "from sklearn.ensemble import GradientBoostingRegressor\n",
    "from sklearn.linear_model import Ridge\n",
    "\n",
    "X_type = tp.NewType(\"X_type\", np.ndarray)\n",
    "X_row_type = tp.NewType(\"X_row_type\", np.ndarray)\n",
    "Y_type = tp.NewType(\"Y_type\", np.array)\n",
    "TS_type = tp.NewType(\"TS_type\", pd.Series)\n",
    "Model_type = tp.TypeVar(\"Model_type\")\n",
    "\n",
    "def extract_advanced_features(\n",
    "        timeseries: TS_type,\n",
    "        model_idx: int,\n",
    "        window_size: int = 28\n",
    ") -> X_row_type:\n",
    "    \"\"\"\n",
    "    Расширенная функция для получения вектора фичей с дополнительными признаками\n",
    "\n",
    "    Args:\n",
    "        timeseries --- временной ряд до момента времени T (не включительно)\n",
    "        model_idx --- индекс модели\n",
    "        window_size --- количество последних значений ряда для прогноза\n",
    "\n",
    "    Returns:\n",
    "        Расширенный вектор фичей для модели с индексом model_idx\n",
    "    \"\"\"\n",
    "    # Базовые признаки\n",
    "    base_features = extract_hybrid_strategy_features(timeseries, model_idx, window_size)\n",
    "\n",
    "    # Если недостаточно данных, возвращаем только базовые признаки\n",
    "    if len(timeseries) < window_size + model_idx:\n",
    "        return base_features\n",
    "\n",
    "    feature_window = window_size + model_idx\n",
    "    # Добавляем признаки на основе дат\n",
    "    dates = timeseries.index[-feature_window:] if isinstance(timeseries, pd.Series) else pd.to_datetime(datetime.datetime.now())\n",
    "    date_features = []\n",
    "\n",
    "    for date in dates:\n",
    "        date_features.extend([\n",
    "            date.dayofweek,  # День недели\n",
    "            date.month,  # Месяц\n",
    "            date.day,  # День месяца\n",
    "            date.quarter,  # Квартал\n",
    "            # Признак выходного дня\n",
    "            1 if date.dayofweek >= 5 else 0\n",
    "        ])\n",
    "    next_date = dates[-1]+ pd.Timedelta(days=1)\n",
    "    date_features.extend([\n",
    "            next_date.dayofweek,  # День недели\n",
    "            next_date.month,  # Месяц\n",
    "            next_date.day,  # День месяца\n",
    "            next_date.quarter,  # Квартал\n",
    "            # Признак выходного дня\n",
    "            1 if next_date.dayofweek >= 5 else 0\n",
    "        ])\n",
    "\n",
    "    # Добавляем статистические признаки\n",
    "    if len(timeseries) >= window_size + model_idx:\n",
    "        recent_data = timeseries[-window_size - model_idx:].values\n",
    "        stat_features = [\n",
    "            np.mean(recent_data),  # Среднее\n",
    "            np.std(recent_data),  # Стандартное отклонение\n",
    "            np.min(recent_data),  # Минимум\n",
    "            np.max(recent_data),  # Максимум\n",
    "            np.median(recent_data)  # Медиана\n",
    "        ]\n",
    "\n",
    "        # # Добавляем лаги для учета сезонности\n",
    "        # if len(timeseries) >= window_size + model_idx + 7:\n",
    "        #     weekly_lag = timeseries[-(window_size + model_idx + 7):-(model_idx + 7)].values\n",
    "        #     stat_features.extend([np.mean(weekly_lag), np.std(weekly_lag)])\n",
    "        # else:\n",
    "        #     stat_features.extend([0, 0])\n",
    "    else:\n",
    "        stat_features = [0, 0, 0, 0, 0, 0, 0]\n",
    "\n",
    "    # Объединяем все признаки\n",
    "    all_features = np.concatenate([base_features, date_features, stat_features])\n",
    "    return all_features\n"
   ]
  },
  {
   "cell_type": "code",
   "execution_count": 1,
   "id": "854438a5-d7b7-4ece-bc47-09ee321eb397",
   "metadata": {},
   "outputs": [],
   "source": [
    "import pandas as pd\n",
    "import numpy as np\n",
    "import kagglehub\n",
    "from tqdm import tqdm \n",
    "import matplotlib.pyplot as plt\n",
    "from IPython.display import clear_output"
   ]
  },
  {
   "cell_type": "code",
   "execution_count": 2,
   "id": "49e6985e-4f5a-4727-8f00-6f5c909ca590",
   "metadata": {},
   "outputs": [],
   "source": [
    "from contest.file import extract_hybrid_strategy_features,read_timeseries,build_datasets,extract_advanced_features, predict,train_models,score_models"
   ]
  },
  {
   "cell_type": "code",
   "execution_count": 3,
   "id": "9024820a-d6ed-45fa-973f-fa5ff1609f05",
   "metadata": {},
   "outputs": [],
   "source": [
    "train_ts, val_ts = read_timeseries('./demand-forecasting-kernels-only/train.csv')"
   ]
  },
  {
   "cell_type": "code",
   "execution_count": 4,
   "id": "e0747f8e-8197-4e98-90f9-1c7121389124",
   "metadata": {},
   "outputs": [
    {
     "name": "stderr",
     "output_type": "stream",
     "text": [
      "/Users/sokolov-kir-b/Desktop/ШАД/ML 2/Лабораторная 5. Временные ряды/contest/file.py:251: FutureWarning: Series.__getitem__ treating keys as positions is deprecated. In a future version, integer keys will always be treated as labels (consistent with DataFrame behavior). To access a value by position, use `ser.iloc[pos]`\n",
      "  y.append(timeseries[j])\n"
     ]
    }
   ],
   "source": [
    "models = train_models(train_ts,30)"
   ]
  },
  {
   "cell_type": "code",
   "execution_count": 5,
   "id": "848972c7-8313-467e-a94d-84f8c435557a",
   "metadata": {
    "scrolled": true
   },
   "outputs": [
    {
     "data": {
      "text/plain": [
       "[Ridge(),\n",
       " Ridge(),\n",
       " Ridge(),\n",
       " Ridge(),\n",
       " Ridge(),\n",
       " Ridge(),\n",
       " Ridge(),\n",
       " Ridge(),\n",
       " Ridge(),\n",
       " Ridge(),\n",
       " Ridge(),\n",
       " Ridge(),\n",
       " Ridge(),\n",
       " Ridge(),\n",
       " Ridge(),\n",
       " Ridge(),\n",
       " Ridge(),\n",
       " Ridge(),\n",
       " Ridge(),\n",
       " Ridge(),\n",
       " Ridge(),\n",
       " Ridge(),\n",
       " Ridge(),\n",
       " Ridge(),\n",
       " Ridge(),\n",
       " Ridge(),\n",
       " Ridge(),\n",
       " Ridge(),\n",
       " Ridge(),\n",
       " Ridge()]"
      ]
     },
     "execution_count": 5,
     "metadata": {},
     "output_type": "execute_result"
    }
   ],
   "source": [
    "models"
   ]
  },
  {
   "cell_type": "code",
   "execution_count": 6,
   "id": "cbd6242d-44d7-4417-96ee-e4abfb926600",
   "metadata": {},
   "outputs": [
    {
     "data": {
      "text/plain": [
       "array([12.91469161, 16.89536072, 15.00118602, 16.5921341 , 15.41928255,\n",
       "       19.85281022, 21.70962541, 13.14866428, 15.86720088, 14.02758238,\n",
       "       15.62125075, 17.14600305, 20.70528175, 21.72591683, 14.2388538 ,\n",
       "       17.65908784, 15.82408062, 15.19880789, 17.08890806, 21.15330992,\n",
       "       24.3027826 , 14.55716634, 14.64782594, 15.17241039, 17.31681101,\n",
       "       14.75402941, 18.27870271, 22.02488729, 14.60533226, 13.18535589])"
      ]
     },
     "execution_count": 6,
     "metadata": {},
     "output_type": "execute_result"
    }
   ],
   "source": [
    "predict(val_ts,models,extract_advanced_features)"
   ]
  },
  {
   "cell_type": "code",
   "execution_count": 7,
   "id": "4da6f825-4ec5-4c5f-87ae-2d671a14e3db",
   "metadata": {},
   "outputs": [
    {
     "data": {
      "text/plain": [
       "28.583571854332735"
      ]
     },
     "execution_count": 7,
     "metadata": {},
     "output_type": "execute_result"
    }
   ],
   "source": [
    "score_models(train_ts,val_ts,models,predict)"
   ]
  },
  {
   "cell_type": "code",
   "execution_count": 15,
   "id": "941b8b1e-250f-4e72-a22c-16cf59724c70",
   "metadata": {},
   "outputs": [
    {
     "data": {
      "text/plain": [
       "Timestamp('2013-01-01 00:00:00')"
      ]
     },
     "execution_count": 15,
     "metadata": {},
     "output_type": "execute_result"
    }
   ],
   "source": [
    "train_ts.index[0]"
   ]
  },
  {
   "cell_type": "code",
   "execution_count": 18,
   "id": "4f8ec769-c22c-41da-b2e0-55f3b2876ece",
   "metadata": {},
   "outputs": [
    {
     "data": {
      "text/plain": [
       "[1, 0, 0, 0, 0, 0, 0]"
      ]
     },
     "execution_count": 18,
     "metadata": {},
     "output_type": "execute_result"
    }
   ],
   "source": [
    "def is_retail_important_day(date):\n",
    "    # Словарь с важными для розничной торговли датами\n",
    "    retail_dates = {\n",
    "        # Основные праздники\n",
    "        \"new_year\": (date.month == 1 and date.day == 1),\n",
    "        \"christmas\": (date.month == 12 and date.day == 25),\n",
    "        # \"thanksgiving\": is_thanksgiving(date),\n",
    "        # \"black_friday\": is_black_friday(date),\n",
    "        # \"cyber_monday\": is_cyber_monday(date),\n",
    "        \"valentines\": (date.month == 2 and date.day == 14),\n",
    "        \"halloween\": (date.month == 10 and date.day == 31),\n",
    "        \n",
    "        # Сезонные особенности\n",
    "        \"back_to_school\": (date.month == 8 and date.day >= 15) or (date.month == 9 and date.day <= 15),\n",
    "        \"summer_start\": (date.month == 6 and date.day <= 10),\n",
    "        \"winter_sale\": (date.month == 1 and date.day >= 5 and date.day <= 15),\n",
    "    }\n",
    "    \n",
    "    return [1 if retail_dates[key] else 0 for key in retail_dates]\n",
    "\n",
    "retail_features = is_retail_important_day(train_ts.index[0])\n",
    "retail_features"
   ]
  },
  {
   "cell_type": "code",
   "execution_count": null,
   "id": "37b8b013-8a7d-43de-892f-9144c8864c6f",
   "metadata": {},
   "outputs": [],
   "source": []
  }
 ],
 "metadata": {
  "kernelspec": {
   "display_name": "Python [conda env:jupyter_main_env]",
   "language": "python",
   "name": "conda-env-jupyter_main_env-py"
  },
  "language_info": {
   "codemirror_mode": {
    "name": "ipython",
    "version": 3
   },
   "file_extension": ".py",
   "mimetype": "text/x-python",
   "name": "python",
   "nbconvert_exporter": "python",
   "pygments_lexer": "ipython3",
   "version": "3.10.18"
  }
 },
 "nbformat": 4,
 "nbformat_minor": 5
}
